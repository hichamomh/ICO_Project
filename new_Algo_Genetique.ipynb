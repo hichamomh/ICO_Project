{
 "cells": [
  {
   "cell_type": "code",
   "execution_count": 16,
   "metadata": {},
   "outputs": [
    {
     "data": {
      "text/plain": [
       "<module 'fonctions' from 'C:\\\\Users\\\\hicha\\\\OneDrive\\\\Bureau\\\\étude\\\\ICO\\\\data_PTV_Fil_rouge\\\\fonctions.py'>"
      ]
     },
     "execution_count": 16,
     "metadata": {},
     "output_type": "execute_result"
    }
   ],
   "source": [
    "from fonctions import *\n",
    "import fonctions\n",
    "import math\n",
    "import importlib\n",
    "import mesa\n",
    "from math import inf\n",
    "from mesa import Agent\n",
    "from mesa import Model\n",
    "from mesa.time import RandomActivation\n",
    "from mesa.time import BaseScheduler\n",
    "\n",
    "importlib.reload(fonctions)"
   ]
  },
  {
   "cell_type": "code",
   "execution_count": 17,
   "metadata": {},
   "outputs": [],
   "source": [
    "data_depot = pd.read_csv('data_depot.csv')\n",
    "data_client_index = pd.read_csv('data_clients.csv')\n",
    "\n",
    "\n",
    "\n",
    "with open('distance_matrix.pickle', 'rb') as handle:\n",
    "    distance_matrix = pickle.load(handle)\n",
    "\n",
    "with open('times.pickle', 'rb') as handle:\n",
    "    times = pickle.load(handle)\n",
    "\n",
    "\n",
    "\n",
    "n = 50\n",
    "\n",
    "data_depot = data_depot.iloc[:n]\n",
    "data_client_index = data_client_index.iloc[:n]\n",
    "distance_matrix = distance_matrix[:n , :n]\n",
    "times = times[:n,:]"
   ]
  },
  {
   "cell_type": "code",
   "execution_count": 25,
   "metadata": {},
   "outputs": [],
   "source": []
  },
  {
   "cell_type": "code",
   "execution_count": 24,
   "metadata": {},
   "outputs": [],
   "source": [
    "L = [1,3,4]\n",
    "\n"
   ]
  },
  {
   "cell_type": "code",
   "execution_count": null,
   "metadata": {},
   "outputs": [],
   "source": []
  },
  {
   "cell_type": "code",
   "execution_count": 35,
   "metadata": {},
   "outputs": [
    {
     "name": "stderr",
     "output_type": "stream",
     "text": [
      "C:\\Users\\hicha\\AppData\\Local\\Temp\\ipykernel_28156\\2823404635.py:5: DeprecationWarning: Sampling from a set deprecated\n",
      "since Python 3.9 and will be removed in a subsequent version.\n",
      "  participants = random.sample(Couts.keys(), taille_tournoi)\n"
     ]
    },
    {
     "name": "stdout",
     "output_type": "stream",
     "text": [
      "itération 0 \n",
      "itération 1 \n",
      "itération 2 \n",
      "itération 3 \n",
      "itération 4 \n",
      "itération 5 \n",
      "itération 6 \n",
      "itération 7 \n",
      "itération 8 \n",
      "itération 9 \n",
      "itération 10 \n",
      "itération 11 \n",
      "itération 12 \n",
      "itération 13 \n",
      "itération 14 \n",
      "itération 15 \n",
      "itération 16 \n",
      "itération 17 \n",
      "itération 18 \n",
      "itération 19 \n",
      "itération 20 \n",
      "itération 21 \n",
      "itération 22 \n",
      "itération 23 \n",
      "itération 24 \n",
      "itération 25 \n",
      "itération 26 \n",
      "itération 27 \n",
      "itération 28 \n",
      "itération 29 \n",
      "itération 30 \n",
      "itération 31 \n",
      "itération 32 \n",
      "itération 33 \n",
      "itération 34 \n",
      "itération 35 \n",
      "itération 36 \n",
      "itération 37 \n",
      "itération 38 \n",
      "itération 39 \n",
      "itération 40 \n",
      "itération 41 \n",
      "itération 42 \n",
      "itération 43 \n",
      "itération 44 \n",
      "itération 45 \n",
      "itération 46 \n",
      "itération 47 \n",
      "itération 48 \n",
      "itération 49 \n",
      "itération 50 \n",
      "itération 51 \n",
      "itération 52 \n",
      "itération 53 \n",
      "itération 54 \n",
      "itération 55 \n",
      "itération 56 \n",
      "itération 57 \n",
      "itération 58 \n",
      "itération 59 \n",
      "itération 60 \n",
      "itération 61 \n",
      "itération 62 \n",
      "itération 63 \n",
      "itération 64 \n",
      "itération 65 \n",
      "itération 66 \n",
      "itération 67 \n",
      "itération 68 \n",
      "itération 69 \n",
      "itération 70 \n",
      "itération 71 \n",
      "itération 72 \n",
      "itération 73 \n",
      "itération 74 \n",
      "itération 75 \n",
      "itération 76 \n",
      "itération 77 \n",
      "itération 78 \n",
      "itération 79 \n",
      "itération 80 \n",
      "itération 81 \n",
      "itération 82 \n",
      "itération 83 \n",
      "itération 84 \n",
      "itération 85 \n",
      "itération 86 \n",
      "itération 87 \n",
      "itération 88 \n",
      "itération 89 \n",
      "itération 90 \n",
      "itération 91 \n",
      "itération 92 \n",
      "itération 93 \n",
      "itération 94 \n",
      "itération 95 \n",
      "itération 96 \n",
      "itération 97 \n",
      "itération 98 \n",
      "itération 99 \n",
      "Meilleure solution : [40, 48, 29, 7, 47, 38, 6, 16, 24, 27, 42, 38, 8, 4, 2, 3, 2, 26, 14, 38, 29, 8, 21, 0, 38, 47, 13, 38, 11, 20, 32, 45, 42, 15, 20, 17, 31, 47, 36, 4, 22, 16, 48, 41, 44, 48, 27, 32, 44, 15]\n",
      "Meilleure valeur : 851.2489572391125\n"
     ]
    }
   ],
   "source": [
    "import random\n",
    "\n",
    "# Définition de la fonction de sélection par tournoi\n",
    "def selection(Couts, taille_tournoi):\n",
    "    participants = random.sample(Couts.keys(), taille_tournoi)\n",
    "    return max(participants, key=lambda x:Couts[x] )\n",
    "\n",
    "# Définition de la fonction de croisement à un point\n",
    "def croisement(parent1, parent2):\n",
    "    point_croisement = random.randint(1, len(parent1) - 1)\n",
    "    enfant1 = parent1[:point_croisement] + parent2[point_croisement:]\n",
    "    enfant2 = parent2[:point_croisement] + parent1[point_croisement:]\n",
    "    return enfant1,enfant2\n",
    "\n",
    "# Définition de la fonction de mutation\n",
    "def mutation(solution, taux_mutation):\n",
    "    for i in range(len(solution)):\n",
    "        if random.random() < taux_mutation:\n",
    "            solution[i] = max(solution) - solution[i]  # Inversion de la valeur de l'élément\n",
    "    return solution\n",
    "\n",
    "# Définition de l'algorithme génétique\n",
    "def genetique(taille_population, taille_solution, taux_mutation, max_iterations):\n",
    "    \n",
    "    history = []\n",
    "    population = [[random.randint(0, n) for j in range(taille_solution)] for i in range(taille_population)]\n",
    "    \n",
    "    for i in range(max_iterations):\n",
    "        Couts = {i : cout_fonction(code_to_X(population[i])) for i in  range(len(population))}\n",
    "        parents = [population[selection(Couts, 2)] for j in range(taille_population)]\n",
    "        \n",
    "        if len(history) == 0:\n",
    "            history.append(min(list(Couts.values())))\n",
    "            \n",
    "        else : \n",
    "            history.append(min(min(list(Couts.values())),history[-1]))\n",
    "        \n",
    "        enfants = []\n",
    "        \n",
    "        for j in range(0, taille_population, 2):\n",
    "            enfants.append(croisement(parents[j], parents[j+1])[0])\n",
    "            enfants.append(croisement(parents[j], parents[j+1])[1])\n",
    "            \n",
    "        population = [mutation(enfants[j], taux_mutation) for j in range(taille_population)]\n",
    "        \n",
    "\n",
    "        \n",
    "        print(f'itération {i} ')\n",
    "\n",
    "        \n",
    "    meilleure_solution = max(population, key=lambda x: cout_fonction(code_to_X(x)))\n",
    "    meilleure_valeur = cout_fonction(code_to_X(meilleure_solution))\n",
    "    \n",
    "    return meilleure_solution, meilleure_valeur , history\n",
    "\n",
    "# Exemple d'utilisation\n",
    "taille_population = 6\n",
    "taille_solution = n\n",
    "taux_mutation = 0.1\n",
    "max_iterations = 100\n",
    "meilleure_solution, meilleure_valeur,history  = genetique(taille_population, taille_solution, taux_mutation, max_iterations)\n",
    "print(\"Meilleure solution :\", meilleure_solution)\n",
    "print(\"Meilleure valeur :\", meilleure_valeur)"
   ]
  },
  {
   "cell_type": "code",
   "execution_count": 36,
   "metadata": {},
   "outputs": [
    {
     "data": {
      "image/png": "[encoded data removed]",
      "text/plain": [
       "<Figure size 640x480 with 1 Axes>"
      ]
     },
     "metadata": {},
     "output_type": "display_data"
    }
   ],
   "source": [
    "plt.plot(history)\n",
    "plt.xlabel('Iteration')\n",
    "plt.ylabel('Iteration')\n",
    "plt.title('Cout de fonction Genetique')\n",
    "plt.savefig('Cout de fonction Genetique')"
   ]
  },
  {
   "cell_type": "code",
   "execution_count": null,
   "metadata": {},
   "outputs": [],
   "source": []
  },
  {
   "cell_type": "code",
   "execution_count": null,
   "metadata": {},
   "outputs": [],
   "source": []
  }
 ],
 "metadata": {
  "kernelspec": {
   "display_name": "Python 3 (ipykernel)",
   "language": "python",
   "name": "python3"
  },
  "language_info": {
   "codemirror_mode": {
    "name": "ipython",
    "version": 3
   },
   "file_extension": ".py",
   "mimetype": "text/x-python",
   "name": "python",
   "nbconvert_exporter": "python",
   "pygments_lexer": "ipython3",
   "version": "3.9.13"
  }
 },
 "nbformat": 4,
 "nbformat_minor": 2
}
