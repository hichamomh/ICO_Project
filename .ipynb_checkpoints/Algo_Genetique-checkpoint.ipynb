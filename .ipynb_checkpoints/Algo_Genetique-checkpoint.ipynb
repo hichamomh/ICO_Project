{
 "cells": [
  {
   "cell_type": "code",
   "execution_count": 3,
   "metadata": {},
   "outputs": [
    {
     "data": {
      "text/plain": [
       "<module 'fonctions' from 'C:\\\\Users\\\\hicha\\\\OneDrive\\\\Bureau\\\\étude\\\\ICO\\\\data_PTV_Fil_rouge\\\\fonctions.py'>"
      ]
     },
     "execution_count": 3,
     "metadata": {},
     "output_type": "execute_result"
    }
   ],
   "source": [
    "from fonctions import *\n",
    "import fonctions\n",
    "import math\n",
    "import importlib\n",
    "import mesa\n",
    "from math import inf\n",
    "from mesa import Agent\n",
    "from mesa import Model\n",
    "from mesa.time import RandomActivation\n",
    "from mesa.time import BaseScheduler\n",
    "\n",
    "importlib.reload(fonctions)"
   ]
  },
  {
   "cell_type": "code",
   "execution_count": 9,
   "metadata": {},
   "outputs": [],
   "source": [
    "data_depot = pd.read_csv('data_depot.csv')\n",
    "data_client_index = pd.read_csv('data_clients.csv')\n",
    "\n",
    "\n",
    "\n",
    "with open('distance_matrix.pickle', 'rb') as handle:\n",
    "    distance_matrix = pickle.load(handle)\n",
    "\n",
    "with open('times.pickle', 'rb') as handle:\n",
    "    times = pickle.load(handle)\n",
    "\n",
    "\n",
    "\n",
    "n = 50\n",
    "\n",
    "data_depot = data_depot.iloc[:n]\n",
    "data_client_index = data_client_index.iloc[:n]\n",
    "distance_matrix = distance_matrix[:n , :n]\n",
    "times = times[:n,:]"
   ]
  },
  {
   "cell_type": "code",
   "execution_count": 25,
   "metadata": {},
   "outputs": [],
   "source": [
    "def creation_pop(nb):\n",
    "    pop=[]\n",
    "    for i in range(nb):\n",
    "        T = [i for i in range(n)]\n",
    "        np.random.shuffle(T)\n",
    "        pop.append(T.copy())\n",
    "    return(pop)\n",
    "\n",
    "\n",
    "def fitness(pop):\n",
    "    long=[]\n",
    "    \n",
    "    for i in range(len(pop)):\n",
    "        \n",
    "        cout_m=cout_fonction(code_to_X(pop[i]))\n",
    "        long.append(cout_m)\n",
    "        \n",
    "    return long\n",
    "\n",
    "\n",
    "def tri_pop(pop):\n",
    "    #tri selon la longueur de la liste\n",
    "    long=fitness(pop)\n",
    "    for i in range(0,len(pop)-1) :\n",
    "        # de 0 à n-2\n",
    "        indmin = i\n",
    "        for j in range(i+1,len(pop)) : # de i+1 à n-1, recherche du min\n",
    "            if long[j] < long[indmin] : indmin = j\n",
    "        long[indmin],long[i]=long[i],long[indmin] \n",
    "        pop[indmin],pop[i]=pop[i],pop[indmin] \n",
    "    return pop,long\n",
    "\n",
    "\n",
    "def inverse(L): #return 1/L\n",
    "    \n",
    "    c=[]\n",
    "    k=min(L)\n",
    "    p=max(L)\n",
    "    \n",
    "    for i in range(len(L)):\n",
    "        c.append((p-k+1)/(L[i]-k+1))\n",
    "        \n",
    "    return(c)\n",
    "\n",
    "\n",
    "def choix_pop(pop,k):\n",
    "\n",
    "    pop_tri,long=tri_pop(pop)\n",
    "    long1=inverse(long)\n",
    "    \n",
    "    return(random.choices(pop_tri, long1, k=k ))\n",
    "\n",
    "def croisement(L1,L2):\n",
    "    \n",
    "    n=len(L1)\n",
    "    i=random.choice(range(0,n))\n",
    "    j=random.choice(range(0,n))\n",
    "    \n",
    "    l1=L1[i:j]\n",
    "    l2=L2[i:j]\n",
    "    \n",
    "    L1[i:j] = l2\n",
    "    L2[i:j] = l1\n",
    "\n",
    "    return(L1,L2)\n",
    "\n",
    "def mutation(List):\n",
    "    \n",
    "    m=len(List)\n",
    "   \n",
    "    j = random.randint(0,m-1)\n",
    "    i=random.randint(0,m-1)\n",
    "    \n",
    "    List[i],List[j]=List[j],List[i]\n",
    "    \n",
    "    \n",
    "    \n",
    "\n",
    "def step(nb_gen,nb,k,v):\n",
    "    \n",
    "    i=0\n",
    "    \n",
    "    pop=creation_pop(nb)\n",
    "    best_pop=[]\n",
    "    best_long=[]\n",
    "    \n",
    "    \n",
    "    while i<=nb_gen:\n",
    "\n",
    "        new_pop=choix_pop(pop,k)\n",
    "        pop_suiv=[]\n",
    "        \n",
    "        \n",
    "        for j in range(nb//2):\n",
    "            \n",
    "                parent1=random.choice(new_pop)\n",
    "                parent2=random.choice(new_pop)\n",
    "                T_kid1,T_kid2=croisement(parent1,parent2)\n",
    "                #T_kid1,T_kid2=croisement2(parent1,parent2,PO)\n",
    "                p=random.uniform(0,1)\n",
    "\n",
    "                if p<v:\n",
    "                    mutation(T_kid1)\n",
    "                    mutation(T_kid2)\n",
    "\n",
    "                pop_suiv.append(T_kid1)\n",
    "                pop_suiv.append(T_kid2)\n",
    "\n",
    "        i+=1\n",
    "        pop=pop_suiv\n",
    "        pop_tri,long=tri_pop(pop)\n",
    "        \n",
    "        if len(best_long)!=0:\n",
    "            if long[0]<=best_long[-1]:\n",
    "                best_long.append(long[0])\n",
    "                best_pop.append(pop_tri[0])\n",
    "            else:\n",
    "                best_long.append(best_long[-1])\n",
    "                best_pop.append(best_pop[-1])\n",
    "        else:\n",
    "            best_long.append(long[0])\n",
    "            best_pop.append(pop_tri[0])\n",
    "            \n",
    "        \n",
    "    best_choice=choix_pop(best_pop,1)\n",
    "    best_element = best_choice[0]\n",
    "    \n",
    "    return best_long , best_choice"
   ]
  },
  {
   "cell_type": "code",
   "execution_count": null,
   "metadata": {},
   "outputs": [],
   "source": [
    "best_long , best_choice = step(100,5,2,0.1)"
   ]
  },
  {
   "cell_type": "code",
   "execution_count": 17,
   "metadata": {},
   "outputs": [
    {
     "data": {
      "text/plain": [
       "[800.9385003767406,\n",
       " 800.0829746096065,\n",
       " 837.3569310292094,\n",
       " 836.9531379759815,\n",
       " 836.5398925224601,\n",
       " 805.1902649309104,\n",
       " 784.5049832561658,\n",
       " 779.6341001804153,\n",
       " 779.6341001804153,\n",
       " 779.6341001804153,\n",
       " 779.6341001804153]"
      ]
     },
     "execution_count": 17,
     "metadata": {},
     "output_type": "execute_result"
    }
   ],
   "source": [
    "best_long"
   ]
  },
  {
   "cell_type": "code",
   "execution_count": 19,
   "metadata": {},
   "outputs": [
    {
     "data": {
      "text/plain": [
       "[<matplotlib.lines.Line2D at 0x120b5466a00>]"
      ]
     },
     "execution_count": 19,
     "metadata": {},
     "output_type": "execute_result"
    },
    {
     "data": {
      "image/png": "[encoded data removed]",
      "text/plain": [
       "<Figure size 640x480 with 1 Axes>"
      ]
     },
     "metadata": {},
     "output_type": "display_data"
    }
   ],
   "source": [
    "plt.plot(best_long)"
   ]
  },
  {
   "cell_type": "code",
   "execution_count": null,
   "metadata": {},
   "outputs": [],
   "source": []
  },
  {
   "cell_type": "code",
   "execution_count": null,
   "metadata": {},
   "outputs": [],
   "source": []
  },
  {
   "cell_type": "code",
   "execution_count": null,
   "metadata": {},
   "outputs": [],
   "source": [
    "def voisinsRS1(PO,gantt):\n",
    "    T = encoder(gantt)\n",
    "    n = len(T)\n",
    "    i = np.random.randint(n)\n",
    "    j = np.random.randint(n)\n",
    "    T[i] , T[j] = T[j], T[i]\n",
    "    return(decoder(PO,T))"
   ]
  },
  {
   "cell_type": "code",
   "execution_count": null,
   "metadata": {},
   "outputs": [],
   "source": [
    "def RS1 (PO,gantt_I,n_cycle,tau,t0) : \n",
    "    \n",
    "    S = gantt_I.copy()\n",
    "    S1 = S\n",
    "    #T = [cout1(S1)]\n",
    "    k = 0\n",
    "    NC = True\n",
    "    t = t0\n",
    "     \n",
    "    while NC == True and t>10**(-8) :\n",
    "        \n",
    "        n = 0\n",
    "        NC = False\n",
    "        \n",
    "        while n < n_cycle :\n",
    "            k += 1\n",
    "            n += 1\n",
    "            S2 = voisinsRS1(PO,S)\n",
    "            delta = cout1(S2) - cout1(S) \n",
    "            \n",
    "            if delta < 0 : \n",
    "                S = S2\n",
    "              \n",
    "                NC = True\n",
    "                 \n",
    "            elif delta>0: \n",
    "                prob = np.exp(-delta/t) \n",
    "                q = random()\n",
    "                if q < prob :\n",
    "                    S = S2\n",
    "                     \n",
    "                    NC = True\n",
    "            \n",
    "             \n",
    "            if cout1(S) < cout1(S1):\n",
    "                S1 = S\n",
    "               \n",
    "                #T.append(S1))\n",
    "        t = t * tau\n",
    "        \n",
    "         \n",
    "    return(S1)\n"
   ]
  },
  {
   "cell_type": "code",
   "execution_count": null,
   "metadata": {},
   "outputs": [],
   "source": []
  },
  {
   "cell_type": "code",
   "execution_count": null,
   "metadata": {},
   "outputs": [],
   "source": [
    "step()"
   ]
  },
  {
   "cell_type": "code",
   "execution_count": null,
   "metadata": {},
   "outputs": [],
   "source": []
  },
  {
   "cell_type": "code",
   "execution_count": null,
   "metadata": {},
   "outputs": [],
   "source": []
  }
 ],
 "metadata": {
  "kernelspec": {
   "display_name": "Python 3 (ipykernel)",
   "language": "python",
   "name": "python3"
  },
  "language_info": {
   "codemirror_mode": {
    "name": "ipython",
    "version": 3
   },
   "file_extension": ".py",
   "mimetype": "text/x-python",
   "name": "python",
   "nbconvert_exporter": "python",
   "pygments_lexer": "ipython3",
   "version": "3.9.13"
  }
 },
 "nbformat": 4,
 "nbformat_minor": 2
}
